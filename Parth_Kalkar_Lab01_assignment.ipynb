{
  "nbformat": 4,
  "nbformat_minor": 0,
  "metadata": {
    "colab": {
      "name": "Parth_Kalkar_Lab01_assignment.ipynb",
      "provenance": [],
      "collapsed_sections": []
    },
    "kernelspec": {
      "display_name": "Python 3",
      "language": "python",
      "name": "python3"
    },
    "language_info": {
      "codemirror_mode": {
        "name": "ipython",
        "version": 3
      },
      "file_extension": ".py",
      "mimetype": "text/x-python",
      "name": "python",
      "nbconvert_exporter": "python",
      "pygments_lexer": "ipython3",
      "version": "3.8.8"
    }
  },
  "cells": [
    {
      "cell_type": "markdown",
      "metadata": {
        "id": "dvZyl3t1g7v7"
      },
      "source": [
        "# Lab01: Assignment\n",
        "In this assignment you're required to find whether the given numbers are prime or not using sequential and parallel processing and then compare the performance of both\n",
        "\n",
        "## 1. Sequential processing"
      ]
    },
    {
      "cell_type": "code",
      "metadata": {
        "id": "2YEwN_uXg7v-"
      },
      "source": [
        "import time"
      ],
      "execution_count": 11,
      "outputs": []
    },
    {
      "cell_type": "code",
      "metadata": {
        "id": "GnN5k_UZg7v_"
      },
      "source": [
        "numbers = [15492781, 15492787, 15492803, \n",
        "           15492811, 15492810, 15492833, \n",
        "           15492859, 15502547, 15520301, 15527509]"
      ],
      "execution_count": 12,
      "outputs": []
    },
    {
      "cell_type": "code",
      "metadata": {
        "colab": {
          "base_uri": "https://localhost:8080/"
        },
        "id": "78iu0Pieg7wA",
        "outputId": "10c1e725-545e-4460-ea28-f3a14e010cbe"
      },
      "source": [
        "from time import time\n",
        "\n",
        "def is_prime(number):\n",
        "    if number <= 1:\n",
        "      return False\n",
        "    else:\n",
        "      for i in range(2, number):\n",
        "        if (number % i) == 0:\n",
        "          return False\n",
        "     \n",
        "    return True\n",
        "        \n",
        "   \n",
        "if __name__ == \"__main__\":\n",
        "    # your code here\n",
        "    # 1. record the start time using time() function of time module     \n",
        "    start = time()\n",
        "    \n",
        "    for number in numbers:\n",
        "        # 2. print the number and \n",
        "        #    whether it is prime or not.\n",
        "        #    use is_prime() function\n",
        "\n",
        "        if is_prime(number):\n",
        "          print(f\"{number} is prime\")\n",
        "        else:\n",
        "          print(f\"{number} is not prime\")\n",
        "    \n",
        "    # 3. record the performance and print out\n",
        "    t_seq = time() - start\n",
        "    print(f\"Perfomance: {t_seq}\")"
      ],
      "execution_count": 15,
      "outputs": [
        {
          "output_type": "stream",
          "text": [
            "15492781 is prime\n",
            "15492787 is prime\n",
            "15492803 is prime\n",
            "15492811 is prime\n",
            "15492810 is not prime\n",
            "15492833 is prime\n",
            "15492859 is prime\n",
            "15502547 is prime\n",
            "15520301 is prime\n",
            "15527509 is prime\n",
            "Perfomance: 12.507229804992676\n"
          ],
          "name": "stdout"
        }
      ]
    },
    {
      "cell_type": "markdown",
      "metadata": {
        "id": "HVtxmJWAg7wB"
      },
      "source": [
        "## 2. Parallel processing"
      ]
    },
    {
      "cell_type": "code",
      "metadata": {
        "id": "q2YWJ_PNg7wB"
      },
      "source": [
        "from multiprocessing import Process, Queue\n",
        "from queue import Empty # exception to break from loop when the get(block=False) called on empty queue \n",
        "from time import time"
      ],
      "execution_count": 10,
      "outputs": []
    },
    {
      "cell_type": "code",
      "metadata": {
        "colab": {
          "base_uri": "https://localhost:8080/"
        },
        "id": "_ChbSGi2g7wD",
        "outputId": "5ad4586f-4cf1-4781-b1e2-28b682e58f25"
      },
      "source": [
        "def check_prime_worker(job_queue):\n",
        "    \"\"\"worker function passed as target to Process\"\"\"\n",
        "    while True:\n",
        "        # your code here\n",
        "        # 1. get next available number from queue\n",
        "        # 2. print the number and whether it\n",
        "        #    is prime or not, use is_prime()\n",
        "        # 3. use try/except to catch Empty exception \n",
        "        #    and quit the loop if no number remains in queue\n",
        "        try: \n",
        "          number = job_queue.get(block = False)\n",
        "        except Empty:\n",
        "          break\n",
        "        if is_prime(number):\n",
        "          print(f\"{number} is prime\")\n",
        "        else:\n",
        "          print(f\"{number} is not prime\")\n",
        "\n",
        "        \n",
        "# calculate if the numbers are prime or not\n",
        "# measure the performance of parallel processing\n",
        "if __name__ == \"__main__\":\n",
        "    job_queue = Queue()\n",
        "    \n",
        "    t_par = []\n",
        "    # number of workers \n",
        "    for N in range(1, len(numbers)+1):\n",
        "        # preparing the jobs to be done by workers\n",
        "        for n in numbers:\n",
        "            job_queue.put(n)\n",
        "\n",
        "        # your code here\n",
        "\n",
        "        # 1. create list of processes of N process. Choose N in range of [1:len(numbers)]\n",
        "\n",
        "        processes = [Process(target=check_prime_worker, args=(job_queue,)) \n",
        "             for i in range(N)]\n",
        "\n",
        "        # 2. record the start time \n",
        "        start = time()\n",
        "        \n",
        "        # 3. start each of the processes\n",
        "\n",
        "        [p.start() for p in processes]\n",
        "\n",
        "        # 4. call join on each of the processes\n",
        "\n",
        "        [p.join() for p in processes]\n",
        "\n",
        "        # 5. measure the performance and append to the list of records\n",
        "        t_par.append(time() - start)\n",
        "        \n",
        "        # 6. close the processes\n",
        "        [p.close() for p in processes]\n",
        "        print(F\"{time() - start}\\n\")\n",
        "\n",
        "    print(f\"{t_par}\")\n",
        "\n"
      ],
      "execution_count": 9,
      "outputs": [
        {
          "output_type": "stream",
          "text": [
            "15492781 is prime\n",
            "15492787 is prime\n",
            "15492803 is prime\n",
            "15492811 is prime\n",
            "15492810 is not prime\n",
            "15492833 is prime\n",
            "15492859 is prime\n",
            "15502547 is prime\n",
            "15520301 is prime\n",
            "15527509 is prime\n",
            "12.597872972488403\n",
            "\n",
            "15492781 is prime\n",
            "15492787 is prime\n",
            "15492811 is prime\n",
            "15492810 is not prime\n",
            "15492803 is prime\n",
            "15492833 is prime\n",
            "15492859 is prime\n",
            "15520301 is prime\n",
            "15502547 is prime\n",
            "15527509 is prime\n",
            "13.55779242515564\n",
            "\n",
            "15492781 is prime\n",
            "15492803 is prime\n",
            "15492810 is not prime\n",
            "15492787 is prime\n",
            "15492833 is prime\n",
            "15492859 is prime\n",
            "15492811 is prime\n",
            "15520301 is prime\n",
            "15502547 is prime\n",
            "15527509 is prime\n",
            "13.422139644622803\n",
            "\n",
            "15492787 is prime\n",
            "15492810 is not prime\n",
            "15492781 is prime\n",
            "15492803 is prime\n",
            "15492811 is prime\n",
            "15520301 is prime\n",
            "15492833 is prime\n",
            "15492859 is prime\n",
            "15502547 is prime\n",
            "15527509 is prime\n",
            "13.39308762550354\n",
            "\n",
            "15492810 is not prime\n",
            "15492787 is prime\n",
            "15492781 is prime\n",
            "15492811 is prime\n",
            "15492833 is prime\n",
            "15492803 is prime\n",
            "15520301 is prime\n",
            "15492859 is prime\n",
            "15502547 is prime\n",
            "15527509 is prime\n",
            "13.547266244888306\n",
            "\n",
            "15492810 is not prime\n",
            "15492781 is prime\n",
            "15492803 is prime\n",
            "15492787 is prime\n",
            "15492833 is prime\n",
            "15492859 is prime\n",
            "15492811 is prime\n",
            "15527509 is prime\n",
            "15520301 is prime\n",
            "15502547 is prime\n",
            "13.558407068252563\n",
            "\n",
            "15492810 is not prime\n",
            "15492859 is prime\n",
            "15492833 is prime\n",
            "15492787 is prime\n",
            "15492781 is prime\n",
            "15492811 is prime\n",
            "15492803 is prime\n",
            "15502547 is prime\n",
            "15520301 is prime\n",
            "15527509 is prime\n",
            "13.510723352432251\n",
            "\n",
            "15492810 is not prime\n",
            "15492803 is prime\n",
            "15492787 is prime\n",
            "15502547 is prime\n",
            "15492781 is prime\n",
            "15492811 is prime\n",
            "15520301 is prime\n",
            "15492859 is prime\n",
            "15492833 is prime\n",
            "15527509 is prime\n",
            "13.405083656311035\n",
            "\n",
            "15492810 is not prime\n",
            "15492781 is prime\n",
            "15492859 is prime\n",
            "15492803 is prime\n",
            "15492787 is prime\n",
            "15492811 is prime\n",
            "15492833 is prime\n",
            "15502547 is prime\n",
            "15520301 is prime\n",
            "15527509 is prime\n",
            "13.509090185165405\n",
            "\n",
            "15492810 is not prime\n",
            "15492781 is prime\n",
            "15492859 is prime\n",
            "15492803 is prime\n",
            "15492787 is prime\n",
            "15502547 is prime\n",
            "15492833 is prime\n",
            "15492811 is prime\n",
            "15527509 is prime\n",
            "15520301 is prime\n",
            "13.528162240982056\n",
            "\n",
            "[12.5978262424469, 13.557751178741455, 13.422086000442505, 13.39299726486206, 13.547180652618408, 13.558332443237305, 13.510622024536133, 13.404984951019287, 13.508962869644165, 13.528054475784302]\n"
          ],
          "name": "stdout"
        }
      ]
    },
    {
      "cell_type": "markdown",
      "metadata": {
        "id": "jwJxAXt_g7wG"
      },
      "source": [
        "Bonus points will be given if you show/print the name of the process that did calculation for given number (use current_process() from multiprocessing module) "
      ]
    },
    {
      "cell_type": "markdown",
      "metadata": {
        "id": "M9nxQipkg7wI"
      },
      "source": [
        "## 3. Compare the performance of Sequential processing against Parallel processing \n",
        "Draw a simple 2D graph using matplotlib:\n",
        "- X axis should be number of processes from part 2, i.e., it should have values: 1, 2, 3,.., len(numbers)\n",
        "- Y axis should be ratio of \"time for sequential processing\" (t_seq) to a \"time for parallel processing\" (t_par[i-1]) when i processes are used.\n",
        "\n",
        "Explain the results in a few sentences and what factors can affect it?"
      ]
    },
    {
      "cell_type": "code",
      "metadata": {
        "id": "TxhQjL5f3q7K",
        "colab": {
          "base_uri": "https://localhost:8080/",
          "height": 265
        },
        "outputId": "f788dec3-a43a-4536-c564-e9482bd3e344"
      },
      "source": [
        "import matplotlib.pyplot as plt\n",
        "\n",
        "X = list(range(1, len(numbers)))\n",
        "Y = []\n",
        "\n",
        "for i in range(1, len(numbers)):\n",
        "    Y.append(t_seq/t_par[i-1])\n",
        "plt.plot(X, Y)\n",
        "plt.show()"
      ],
      "execution_count": 26,
      "outputs": [
        {
          "output_type": "display_data",
          "data": {
            "image/png": "[encoded data removed]",
            "text/plain": [
              "<Figure size 432x288 with 1 Axes>"
            ]
          },
          "metadata": {
            "needs_background": "light"
          }
        }
      ]
    },
    {
      "cell_type": "markdown",
      "metadata": {
        "id": "9ZTU8QuW3vZD"
      },
      "source": [
        "In the beginning the graph increases, but after, it starts to decrease and stabelizes. The reason for this graph to be like this is that we use more processes, however, even if we include more processes, its doesnt have to mean, they all will get their own core, so it doesnt happen that the program works more efficiently with more processes. "
      ]
    }
  ]
}